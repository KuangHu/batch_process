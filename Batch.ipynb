{
 "cells": [
  {
   "cell_type": "code",
   "execution_count": 1,
   "id": "e3a695c6",
   "metadata": {},
   "outputs": [],
   "source": [
    "import os\n",
    "def get_last_folder_name(folder_path):\n",
    "\n",
    "    #This function takes a folder path as input and returns the name of the last folder in the path.\n",
    "\n",
    "    return os.path.basename(folder_path)\n",
    "\n",
    "def get_subfolders(folder_path):\n",
    "\n",
    "    #This function takes a folder path as input and returns a list of all subfolder paths.\n",
    "    subfolders = [os.path.join(folder_path, f) for f in os.listdir(folder_path) if os.path.isdir(os.path.join(folder_path, f))]\n",
    "    folder_dict = {}\n",
    "    for subfolders_path in subfolders:\n",
    "        names = get_last_folder_name(subfolders_path)\n",
    "        folder_dict[names] = subfolders_path\n",
    "    return folder_dict\n",
    "\n",
    "#Test the function with a sample path (won't execute here as it's a code cell)\n",
    "\n"
   ]
  },
  {
   "cell_type": "code",
   "execution_count": 2,
   "id": "794b2b23",
   "metadata": {},
   "outputs": [],
   "source": [
    "def read_fasta(file_path):\n",
    "    sequences = {}\n",
    "    with open(file_path, 'r') as fasta_file:\n",
    "        sequence_id = None\n",
    "        sequence = ''\n",
    "        for line in fasta_file:\n",
    "            line = line.strip()\n",
    "            if line.startswith('>'):\n",
    "                if sequence_id:\n",
    "                    sequences[sequence_id] = sequence\n",
    "                sequence_id = line[1:]\n",
    "                sequence = ''\n",
    "            else:\n",
    "                sequence += line\n",
    "        if sequence_id:\n",
    "            sequences[sequence_id] = sequence\n",
    "    return sequences"
   ]
  },
  {
   "cell_type": "code",
   "execution_count": 3,
   "id": "ee113bf4",
   "metadata": {},
   "outputs": [],
   "source": [
    "def read_csv_check_columns(csv_path, column_names):\n",
    "    \"\"\"\n",
    "    This function reads a CSV file into a pandas DataFrame and checks if specific columns exist.\n",
    "    \"\"\"\n",
    "    # Read the CSV file\n",
    "    df = pd.read_csv(csv_path)\n",
    "    \n",
    "    # Check if the specified columns are in the DataFrame\n",
    "    columns_exist = all(column in df.columns for column in column_names)\n",
    "    \n",
    "    return df, columns_exist"
   ]
  },
  {
   "cell_type": "code",
   "execution_count": 4,
   "id": "39f88157",
   "metadata": {},
   "outputs": [],
   "source": [
    "def check_and_create_folder(folder_path):\n",
    "    \"\"\"\n",
    "    This function checks if a folder exists at the given path. \n",
    "    If it doesn't exist, the function creates it.\n",
    "    \"\"\"\n",
    "    if not os.path.exists(folder_path):\n",
    "        os.makedirs(folder_path)\n",
    "        print(f\"Folder created at: {folder_path}\")\n",
    "    else:\n",
    "        print(f\"Folder exists at: {folder_path}\")"
   ]
  },
  {
   "cell_type": "code",
   "execution_count": 5,
   "id": "08a6c88e",
   "metadata": {},
   "outputs": [],
   "source": [
    "def get_all_file_paths(directory):\n",
    "    file_paths = []  # List to store file paths\n",
    "\n",
    "    # Walking top-down from the root\n",
    "    for root, directories, files in os.walk(directory):\n",
    "        for filename in files:\n",
    "            # Join the two strings to form the full file path.\n",
    "            filepath = os.path.join(root, filename)\n",
    "            file_paths.append(filepath)  # Add it to the list.\n",
    "\n",
    "    return file_paths"
   ]
  },
  {
   "cell_type": "code",
   "execution_count": 6,
   "id": "c43d1c0d",
   "metadata": {},
   "outputs": [],
   "source": [
    "import pandas as pd\n",
    "def check_key_in_dict(dictionary, key_to_check):\n",
    "    \"\"\"\n",
    "    This function checks if a given key exists in a dictionary.\n",
    "\n",
    "    \"\"\"\n",
    "    return key_to_check in dictionary\n",
    "def process_dataframe_rows(df,path_dict,fasta_sequences):\n",
    "    \"\"\"\n",
    "    This function iterates through a DataFrame row by row, checks each row using a provided function,\n",
    "    and separates the rows into two DataFrames based on the check result.\n",
    "\n",
    "    \"\"\"\n",
    "\n",
    "    NGS_id,Sample_id,Locus,NGS_id_fail,Sample_id_fail,Locus_fail,reason = [],[],[],[],[],[],[]\n",
    "  \n",
    "    for _, row in df.iterrows():\n",
    "        if check_key_in_dict(path_dict,row['NGS_id']) == False or check_key_in_dict(fasta_sequences,row['Locus']) == False:\n",
    "            if check_key_in_dict(path_dict,row['NGS_id']) == False:\n",
    "                reason.append('no sequence file found')\n",
    "                NGS_id_fail.append(row['NGS_id'])\n",
    "                Sample_id_fail.append(row['Sample_id'])\n",
    "                Locus_fail.append(row['Locus'])\n",
    "            else:\n",
    "                reason.append('no reference seuqnce found')\n",
    "\n",
    "                NGS_id_fail.append(row['NGS_id'])\n",
    "                Sample_id_fail.append(row['Sample_id'])\n",
    "                Locus_fail.append(row['Locus'])\n",
    "        else:\n",
    "                NGS_id.append(row['NGS_id'])\n",
    "                Sample_id.append(row['Sample_id'])\n",
    "                Locus.append(row['Locus'])\n",
    "    dict_pass = {'NGS_id':NGS_id,'Sample_id':Sample_id,'Locus':Locus}\n",
    "    dict_fail = {'NGS_id':NGS_id_fail,'Sample_id':Sample_id_fail,'Locus':Locus_fail,'reason':reason}\n",
    "    df_pass = pd.DataFrame.from_dict(dict_pass)\n",
    "    df_fail = pd.DataFrame.from_dict(dict_fail)\n",
    "    return df_pass , df_fail\n",
    "\n",
    "import zipfile\n",
    "import os\n",
    "def unzip(zip_file_path):\n",
    "    output_folder = os.path.dirname(zip_file_path)\n",
    "\n",
    "    # Extract the contents of the zip file\n",
    "    with zipfile.ZipFile(zip_file_path, 'r') as zip_ref:\n",
    "        zip_ref.extractall(output_folder)\n"
   ]
  },
  {
   "cell_type": "code",
   "execution_count": 9,
   "id": "a81c7509",
   "metadata": {},
   "outputs": [],
   "source": [
    "file_path = 'retron_reference.fasta'\n",
    "fasta_sequences = read_fasta(file_path)"
   ]
  },
  {
   "cell_type": "code",
   "execution_count": 10,
   "id": "9fbd8080",
   "metadata": {},
   "outputs": [],
   "source": [
    "sample_path = './data'\n",
    "path_dict = get_subfolders(sample_path)"
   ]
  },
  {
   "cell_type": "code",
   "execution_count": 11,
   "id": "7d773892",
   "metadata": {},
   "outputs": [],
   "source": [
    "csv_path=\"retron_batch9_test.csv\"\n",
    "working_path = './work'\n",
    "out_path = './out'\n",
    "column_names = ['NGS_id','Sample_id','Locus']"
   ]
  },
  {
   "cell_type": "code",
   "execution_count": 85,
   "id": "88f8e769",
   "metadata": {},
   "outputs": [
    {
     "name": "stdout",
     "output_type": "stream",
     "text": [
      "Folder already exists at: ./work\n",
      "Folder already exists at: ./out\n"
     ]
    }
   ],
   "source": [
    "import pandas as pd\n",
    "import subprocess\n",
    "import os\n",
    "import shutil\n",
    "\n",
    "dataframe, columns_exist = read_csv_check_columns(csv_path, column_names)\n",
    "if columns_exist == False:\n",
    "    print(\"Columns not right\")\n",
    "else:\n",
    "    df_pass , df_fail = process_dataframe_rows(dataframe,path_dict,fasta_sequences)\n",
    "    df_fail.to_csv('fail_list.csv',sep = ',')\n",
    "check_and_create_folder(working_path)\n",
    "check_and_create_folder(out_path)\n",
    "for num in range(len(df_pass)):\n",
    "    site_ = df_pass['Locus'][num]\n",
    "    reference_seq = fasta_sequences[site_.replace(\" \", \"\")]\n",
    "    NGS_id_ = df_pass['NGS_id'][num]\n",
    "    sub_seq_folder = path_dict[NGS_id_]\n",
    "    seq_paths = get_all_file_paths(sub_seq_folder)\n",
    "    r1 , r2 = 'none','none'\n",
    "    for path in seq_paths:\n",
    "        if '_1.fq' in path:\n",
    "            r1 = path\n",
    "            #print(path)\n",
    "        elif '_2.fq' in path:\n",
    "            r2 = path\n",
    "    command = 'CRISPResso --fastq_r1 ' + r1 + ' --fastq_r2 '+r2 + ' --amplicon_seq '+ reference_seq + ' -o '+ working_path\n",
    "    print(\"processing: \"+df_pass['NGS_id'][num])\n",
    "    process = subprocess.run(command, shell=True, stdout=subprocess.PIPE, stderr=subprocess.PIPE)\n",
    "    print(process)\n",
    "out_paths = get_all_file_paths(working_path)\n",
    "for num in range(len(df_pass)):\n",
    "    _NGS_id_ = '_'+df_pass['NGS_id'][num]+'_'\n",
    "    Sample_id_ = df_pass['Sample_id'][num]\n",
    "    for path_ in out_paths:\n",
    "        if _NGS_id_ in path_ and 'Alleles_frequency_table.zip' in path_:\n",
    "            unzip(path_)\n",
    "            unzip_path = path_.replace(\".zip\", \".txt\")\n",
    "            new_file_path = os.path.join(out_path,Sample_id_+'.txt' ) \n",
    "            shutil.copy2(unzip_path, new_file_path)\n",
    "        else:\n",
    "            pass"
   ]
  },
  {
   "cell_type": "code",
   "execution_count": null,
   "id": "e65e2b54",
   "metadata": {},
   "outputs": [],
   "source": []
  }
 ],
 "metadata": {
  "kernelspec": {
   "display_name": "Python 3",
   "language": "python",
   "name": "python3"
  },
  "language_info": {
   "codemirror_mode": {
    "name": "ipython",
    "version": 3
   },
   "file_extension": ".py",
   "mimetype": "text/x-python",
   "name": "python",
   "nbconvert_exporter": "python",
   "pygments_lexer": "ipython3",
   "version": "3.9.5"
  }
 },
 "nbformat": 4,
 "nbformat_minor": 5
}
